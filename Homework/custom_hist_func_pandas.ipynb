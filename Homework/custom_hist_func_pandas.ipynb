{
 "cells": [
  {
   "cell_type": "markdown",
   "metadata": {},
   "source": [
    "# Takes in a dataset and num of bins, returns a histogram visualization (Matplotlib object) showing the histogram\n"
   ]
  },
  {
   "cell_type": "markdown",
   "metadata": {},
   "source": [
    "### IMPORT STATEMENTS AND DATASET INSTANTIATION"
   ]
  },
  {
   "cell_type": "code",
   "execution_count": 1,
   "metadata": {},
   "outputs": [],
   "source": [
    "# Using pandas & numpy\n",
    "# get titanic dataframe\n",
    "\n",
    "import pandas as pd\n",
    "import numpy as np\n",
    "\n",
    "PATH = \"../Notebooks - Class/Datasets/titanic.csv\" \n",
    "\n",
    "df = pd.read_csv(PATH)"
   ]
  },
  {
   "cell_type": "code",
   "execution_count": 2,
   "metadata": {},
   "outputs": [
    {
     "data": {
      "text/html": [
       "<div>\n",
       "<style scoped>\n",
       "    .dataframe tbody tr th:only-of-type {\n",
       "        vertical-align: middle;\n",
       "    }\n",
       "\n",
       "    .dataframe tbody tr th {\n",
       "        vertical-align: top;\n",
       "    }\n",
       "\n",
       "    .dataframe thead th {\n",
       "        text-align: right;\n",
       "    }\n",
       "</style>\n",
       "<table border=\"1\" class=\"dataframe\">\n",
       "  <thead>\n",
       "    <tr style=\"text-align: right;\">\n",
       "      <th></th>\n",
       "      <th>PassengerId</th>\n",
       "      <th>Survived</th>\n",
       "      <th>Pclass</th>\n",
       "      <th>Name</th>\n",
       "      <th>Sex</th>\n",
       "      <th>Age</th>\n",
       "      <th>SibSp</th>\n",
       "      <th>Parch</th>\n",
       "      <th>Ticket</th>\n",
       "      <th>Fare</th>\n",
       "      <th>Cabin</th>\n",
       "      <th>Embarked</th>\n",
       "    </tr>\n",
       "  </thead>\n",
       "  <tbody>\n",
       "    <tr>\n",
       "      <th>0</th>\n",
       "      <td>1</td>\n",
       "      <td>0</td>\n",
       "      <td>3</td>\n",
       "      <td>Braund, Mr. Owen Harris</td>\n",
       "      <td>male</td>\n",
       "      <td>22.0</td>\n",
       "      <td>1</td>\n",
       "      <td>0</td>\n",
       "      <td>A/5 21171</td>\n",
       "      <td>7.2500</td>\n",
       "      <td>NaN</td>\n",
       "      <td>S</td>\n",
       "    </tr>\n",
       "    <tr>\n",
       "      <th>1</th>\n",
       "      <td>2</td>\n",
       "      <td>1</td>\n",
       "      <td>1</td>\n",
       "      <td>Cumings, Mrs. John Bradley (Florence Briggs Th...</td>\n",
       "      <td>female</td>\n",
       "      <td>38.0</td>\n",
       "      <td>1</td>\n",
       "      <td>0</td>\n",
       "      <td>PC 17599</td>\n",
       "      <td>71.2833</td>\n",
       "      <td>C85</td>\n",
       "      <td>C</td>\n",
       "    </tr>\n",
       "    <tr>\n",
       "      <th>2</th>\n",
       "      <td>3</td>\n",
       "      <td>1</td>\n",
       "      <td>3</td>\n",
       "      <td>Heikkinen, Miss. Laina</td>\n",
       "      <td>female</td>\n",
       "      <td>26.0</td>\n",
       "      <td>0</td>\n",
       "      <td>0</td>\n",
       "      <td>STON/O2. 3101282</td>\n",
       "      <td>7.9250</td>\n",
       "      <td>NaN</td>\n",
       "      <td>S</td>\n",
       "    </tr>\n",
       "    <tr>\n",
       "      <th>3</th>\n",
       "      <td>4</td>\n",
       "      <td>1</td>\n",
       "      <td>1</td>\n",
       "      <td>Futrelle, Mrs. Jacques Heath (Lily May Peel)</td>\n",
       "      <td>female</td>\n",
       "      <td>35.0</td>\n",
       "      <td>1</td>\n",
       "      <td>0</td>\n",
       "      <td>113803</td>\n",
       "      <td>53.1000</td>\n",
       "      <td>C123</td>\n",
       "      <td>S</td>\n",
       "    </tr>\n",
       "    <tr>\n",
       "      <th>4</th>\n",
       "      <td>5</td>\n",
       "      <td>0</td>\n",
       "      <td>3</td>\n",
       "      <td>Allen, Mr. William Henry</td>\n",
       "      <td>male</td>\n",
       "      <td>35.0</td>\n",
       "      <td>0</td>\n",
       "      <td>0</td>\n",
       "      <td>373450</td>\n",
       "      <td>8.0500</td>\n",
       "      <td>NaN</td>\n",
       "      <td>S</td>\n",
       "    </tr>\n",
       "  </tbody>\n",
       "</table>\n",
       "</div>"
      ],
      "text/plain": [
       "   PassengerId  Survived  Pclass  \\\n",
       "0            1         0       3   \n",
       "1            2         1       1   \n",
       "2            3         1       3   \n",
       "3            4         1       1   \n",
       "4            5         0       3   \n",
       "\n",
       "                                                Name     Sex   Age  SibSp  \\\n",
       "0                            Braund, Mr. Owen Harris    male  22.0      1   \n",
       "1  Cumings, Mrs. John Bradley (Florence Briggs Th...  female  38.0      1   \n",
       "2                             Heikkinen, Miss. Laina  female  26.0      0   \n",
       "3       Futrelle, Mrs. Jacques Heath (Lily May Peel)  female  35.0      1   \n",
       "4                           Allen, Mr. William Henry    male  35.0      0   \n",
       "\n",
       "   Parch            Ticket     Fare Cabin Embarked  \n",
       "0      0         A/5 21171   7.2500   NaN        S  \n",
       "1      0          PC 17599  71.2833   C85        C  \n",
       "2      0  STON/O2. 3101282   7.9250   NaN        S  \n",
       "3      0            113803  53.1000  C123        S  \n",
       "4      0            373450   8.0500   NaN        S  "
      ]
     },
     "execution_count": 2,
     "metadata": {},
     "output_type": "execute_result"
    }
   ],
   "source": [
    "df.head()"
   ]
  },
  {
   "cell_type": "markdown",
   "metadata": {},
   "source": [
    "No data cleaning or processing required.\n",
    "\n",
    "---\n",
    "\n",
    "## Custom Histogram Function"
   ]
  },
  {
   "cell_type": "markdown",
   "metadata": {},
   "source": [
    "## Data Cleaning\n",
    "\n",
    "1. Dropping null values\n",
    "2. Rounding float values to ceiling integers\n",
    "3. Casting all floats to integers\n",
    "4. (OPTIONAL) Sort our integers"
   ]
  },
  {
   "cell_type": "code",
   "execution_count": 3,
   "metadata": {},
   "outputs": [],
   "source": [
    "# 1: Dropping Null Values\n",
    "ages = df[\"Age\"].dropna()\n",
    "\n",
    "# 2. Rounding Floats to Ceiling Integers\n",
    "# 3. Casting All Floats to Integers\n",
    "def round_up(age):\n",
    "    \"\"\" Function that rounds an individual float up to its ceiling and casts it to an integer value. \"\"\"\n",
    "    return int(np.ceil(age))\n",
    "\n",
    "# 4. Sort our integers (and kind of 2. and 3.)\n",
    "ages = sorted(list(map(round_up, ages)))"
   ]
  },
  {
   "cell_type": "markdown",
   "metadata": {},
   "source": [
    "Get range of age data."
   ]
  },
  {
   "cell_type": "code",
   "execution_count": 4,
   "metadata": {},
   "outputs": [
    {
     "data": {
      "text/plain": [
       "(1, 80)"
      ]
     },
     "execution_count": 4,
     "metadata": {},
     "output_type": "execute_result"
    }
   ],
   "source": [
    "np.min(ages), np.max(ages)"
   ]
  },
  {
   "cell_type": "markdown",
   "metadata": {},
   "source": [
    "### OBJECTIVES:\n",
    "\n",
    "1. Create a function that takes in two inputs: `dataset` and `bins`. \n",
    "    1.1. Cast three arguments to function: `dataset`, `feature`, and `bins`. \n",
    "    \n",
    "2. Within our function, create a histogram object that splits the range of our *target feature* (column) into `n` number of uniform bins/buckets based on our `bins` argument. \n",
    "\n",
    "NOTE: Example of above is if you have data representing ages from 1 to 100 and you pass it 10 bins, I expect to get the first bin containing ages from 1-10, the second bin containing ages from 11-20, the third bin containing ages from 21-30, etc. \n",
    "\n",
    "NOTE: Example of above is if you have data representing ages from 1 to 100 and you pass it 5 bins, I expect to get the first bin containing ages from 1-20, the second bin containing ages from 21-40, etc. \n",
    "\n",
    "3. Cast binned histogram object to MatPlotLib/Seaborn for visualization. "
   ]
  },
  {
   "cell_type": "code",
   "execution_count": 5,
   "metadata": {},
   "outputs": [
    {
     "ename": "NameError",
     "evalue": "name 'custom_binned_frequency_histogram' is not defined",
     "output_type": "error",
     "traceback": [
      "\u001b[0;31m---------------------------------------------------------------------------\u001b[0m",
      "\u001b[0;31mNameError\u001b[0m                                 Traceback (most recent call last)",
      "\u001b[0;32m<ipython-input-5-be992da81e36>\u001b[0m in \u001b[0;36m<module>\u001b[0;34m\u001b[0m\n\u001b[1;32m      1\u001b[0m \u001b[0;31m# STRETCH CHALLENGE: Step 1.1: Cast three arguments to function: `dataset`, `feature`, and `bins`.\u001b[0m\u001b[0;34m\u001b[0m\u001b[0;34m\u001b[0m\u001b[0;34m\u001b[0m\u001b[0m\n\u001b[0;32m----> 2\u001b[0;31m \u001b[0mcustom_binned_frequency_histogram\u001b[0m\u001b[0;34m(\u001b[0m\u001b[0mdf\u001b[0m\u001b[0;34m,\u001b[0m \u001b[0;34m\"Fare\"\u001b[0m\u001b[0;34m,\u001b[0m \u001b[0mbins\u001b[0m\u001b[0;34m=\u001b[0m\u001b[0;36m20\u001b[0m\u001b[0;34m)\u001b[0m\u001b[0;34m\u001b[0m\u001b[0;34m\u001b[0m\u001b[0m\n\u001b[0m",
      "\u001b[0;31mNameError\u001b[0m: name 'custom_binned_frequency_histogram' is not defined"
     ]
    }
   ],
   "source": [
    "# STRETCH CHALLENGE: Step 1.1: Cast three arguments to function: `dataset`, `feature`, and `bins`. \n",
    "custom_binned_frequency_histogram(df, \"Fare\", bins=20)"
   ]
  },
  {
   "cell_type": "code",
   "execution_count": 51,
   "metadata": {},
   "outputs": [],
   "source": [
    "def custom_binned_frequency_histogram(dataset, feature, bins):\n",
    "    # Create object to hold ranges of buckets\n",
    "    buckets = []\n",
    "\n",
    "    \"\"\" STRETCH CHALLENGE: Create custom cleaning function and call here based on `dataset` and `feature` args\n",
    "    and return individual dataset (e.g. ages). \"\"\"\n",
    "    # CUSTOM CODE GOES HERE!\n",
    "\n",
    "    \"\"\" We need to access our data's minimum and maximum values, and have a step size \n",
    "    to move across our range and iteratively create our buckets based on our number of bins. \"\"\"\n",
    "    STEP = int(np.max(dataset) / bins)\n",
    "    floor, ceiling = np.min(dataset), np.min(dataset) + STEP\n",
    "\n",
    "    \"\"\" We need to use our STEPs to increment over our data's range and create subranges of buckets. \n",
    "    This will contain the ranges of data that are attributed to each individual bucket for our histogram. \"\"\"\n",
    "    for position in range(bins):\n",
    "        current_bucket = range(floor, ceiling)\n",
    "        buckets.append(current_bucket)\n",
    "        floor += STEP; ceiling += STEP\n",
    "\n",
    "    \"\"\" We need to cast our data into our bucketed histogram by frequency.\n",
    "    This may require altering our final histogram object. \"\"\"\n",
    "    # Recast Buckets to New Histogram Object: Dictogram\n",
    "    frequency_dict = dict((bucket, 0) for bucket in buckets)\n",
    "\n",
    "    # Loop through ages and buckets and cast ages to buckets in histogram\n",
    "    for age in dataset:\n",
    "        for bucket in buckets:\n",
    "            if age in bucket:\n",
    "                frequency_dict[bucket] += 1\n",
    "\n",
    "    \"\"\" We need to send our frequency histogram to a MatPlotLib object to visualize. \"\"\"\n",
    "    # Instantiate plotting space in Jupyter Notebook\n",
    "    plt.figure(figsize=(15, 10))\n",
    "\n",
    "    # Produce bar chart (histogram) of frequency histogram data.\n",
    "    plt.bar(np.arange(bins), frequency_dict.values())\n",
    "\n",
    "    # Rename X-ticks to Bucket Ranges\n",
    "    plt.xticks(np.arange(bins), frequency_dict.keys())\n",
    "\n",
    "    # Display our MatPlotLib visualization.\n",
    "    plt.show()"
   ]
  },
  {
   "cell_type": "code",
   "execution_count": 53,
   "metadata": {},
   "outputs": [
    {
     "data": {
      "image/png": "[encoded data removed]",
      "text/plain": [
       "<Figure size 1080x720 with 1 Axes>"
      ]
     },
     "metadata": {
      "needs_background": "light"
     },
     "output_type": "display_data"
    }
   ],
   "source": [
    "custom_binned_frequency_histogram(ages, bins=20)"
   ]
  },
  {
   "cell_type": "markdown",
   "metadata": {},
   "source": [
    "## Q2: How we can plot histogram of Age for female and male with legend?  "
   ]
  },
  {
   "cell_type": "markdown",
   "metadata": {},
   "source": [
    "Use Pandas with .groupby method and plot the following "
   ]
  },
  {
   "cell_type": "code",
   "execution_count": 4,
   "metadata": {},
   "outputs": [
    {
     "data": {
      "text/plain": [
       "Sex\n",
       "female    AxesSubplot(0.125,0.125;0.775x0.755)\n",
       "male      AxesSubplot(0.125,0.125;0.775x0.755)\n",
       "Name: Age, dtype: object"
      ]
     },
     "execution_count": 4,
     "metadata": {},
     "output_type": "execute_result"
    },
    {
     "data": {
      "image/png": "[encoded data removed]",
      "text/plain": [
       "<Figure size 432x288 with 1 Axes>"
      ]
     },
     "metadata": {},
     "output_type": "display_data"
    }
   ],
   "source": []
  },
  {
   "cell_type": "code",
   "execution_count": null,
   "metadata": {},
   "outputs": [],
   "source": []
  }
 ],
 "metadata": {
  "kernelspec": {
   "display_name": "Python 3",
   "language": "python",
   "name": "python3"
  },
  "language_info": {
   "codemirror_mode": {
    "name": "ipython",
    "version": 3
   },
   "file_extension": ".py",
   "mimetype": "text/x-python",
   "name": "python",
   "nbconvert_exporter": "python",
   "pygments_lexer": "ipython3",
   "version": "3.7.1"
  }
 },
 "nbformat": 4,
 "nbformat_minor": 2
}
